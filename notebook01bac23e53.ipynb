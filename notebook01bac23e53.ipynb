{
 "cells": [
  {
   "cell_type": "code",
   "execution_count": 1,
   "id": "1c9f543e",
   "metadata": {
    "_cell_guid": "b1076dfc-b9ad-4769-8c92-a6c4dae69d19",
    "_uuid": "8f2839f25d086af736a60e9eeb907d3b93b6e0e5",
    "execution": {
     "iopub.execute_input": "2025-04-07T15:38:31.448246Z",
     "iopub.status.busy": "2025-04-07T15:38:31.447867Z",
     "iopub.status.idle": "2025-04-07T15:38:32.435376Z",
     "shell.execute_reply": "2025-04-07T15:38:32.433993Z"
    },
    "papermill": {
     "duration": 0.993019,
     "end_time": "2025-04-07T15:38:32.437217",
     "exception": false,
     "start_time": "2025-04-07T15:38:31.444198",
     "status": "completed"
    },
    "tags": []
   },
   "outputs": [
    {
     "name": "stdout",
     "output_type": "stream",
     "text": [
      "/kaggle/input/titanic/train.csv\n",
      "/kaggle/input/titanic/test.csv\n",
      "/kaggle/input/titanic/gender_submission.csv\n"
     ]
    }
   ],
   "source": [
    "# This Python 3 environment comes with many helpful analytics libraries installed\n",
    "# It is defined by the kaggle/python Docker image: https://github.com/kaggle/docker-python\n",
    "# For example, here's several helpful packages to load\n",
    "\n",
    "import numpy as np # linear algebra\n",
    "import pandas as pd # data processing, CSV file I/O (e.g. pd.read_csv)\n",
    "\n",
    "# Input data files are available in the read-only \"../input/\" directory\n",
    "# For example, running this (by clicking run or pressing Shift+Enter) will list all files under the input directory\n",
    "\n",
    "import os\n",
    "for dirname, _, filenames in os.walk('/kaggle/input'):\n",
    "    for filename in filenames:\n",
    "        print(os.path.join(dirname, filename))\n",
    "\n",
    "# You can write up to 20GB to the current directory (/kaggle/working/) that gets preserved as output when you create a version using \"Save & Run All\" \n",
    "# You can also write temporary files to /kaggle/temp/, but they won't be saved outside of the current session"
   ]
  },
  {
   "cell_type": "code",
   "execution_count": 2,
   "id": "1d80146c",
   "metadata": {
    "execution": {
     "iopub.execute_input": "2025-04-07T15:38:32.443441Z",
     "iopub.status.busy": "2025-04-07T15:38:32.442972Z",
     "iopub.status.idle": "2025-04-07T15:38:34.642044Z",
     "shell.execute_reply": "2025-04-07T15:38:34.640720Z"
    },
    "papermill": {
     "duration": 2.203954,
     "end_time": "2025-04-07T15:38:34.643913",
     "exception": false,
     "start_time": "2025-04-07T15:38:32.439959",
     "status": "completed"
    },
    "tags": []
   },
   "outputs": [
    {
     "name": "stdout",
     "output_type": "stream",
     "text": [
      "Model accuracy on test data: 81.01 %\n"
     ]
    }
   ],
   "source": [
    "# 1. Import all needed libraries\n",
    "import pandas as pd\n",
    "import matplotlib.pyplot as plt\n",
    "import seaborn as sns\n",
    "from sklearn.linear_model import LogisticRegression\n",
    "from sklearn.model_selection import train_test_split\n",
    "from sklearn.metrics import accuracy_score\n",
    "\n",
    "# 2. Load the training dataset\n",
    "df = pd.read_csv(\"/kaggle/input/titanic/train.csv\")\n",
    "\n",
    "# 3. Data Cleaning\n",
    "\n",
    "# Fill missing Age values with the median age\n",
    "df['Age'] = df['Age'].fillna(df['Age'].median())\n",
    "\n",
    "# Fill missing Embarked values with the most common one\n",
    "df['Embarked'] = df['Embarked'].fillna(df['Embarked'].mode()[0])\n",
    "\n",
    "# Drop the Cabin column (too many missing values)\n",
    "df.drop('Cabin', axis=1, inplace=True)\n",
    "\n",
    "# 4. Convert text to numbers\n",
    "\n",
    "# Convert 'Sex': male → 0, female → 1\n",
    "df['Sex'] = df['Sex'].map({'male': 0, 'female': 1})\n",
    "\n",
    "# Convert 'Embarked': C → 0, Q → 1, S → 2\n",
    "df['Embarked'] = df['Embarked'].map({'C': 0, 'Q': 1, 'S': 2})\n",
    "\n",
    "# 6. Train a logistic regression model\n",
    "\n",
    "# Select features (X) and target (y)\n",
    "X = df[['Pclass', 'Sex', 'Age', 'SibSp', 'Parch', 'Fare', 'Embarked']]\n",
    "y = df['Survived']\n",
    "\n",
    "# Split into training and testing sets (80% train, 20% test)\n",
    "X_train, X_test, y_train, y_test = train_test_split(X, y, test_size=0.2, random_state=42)\n",
    "\n",
    "# Create and train the model\n",
    "model = LogisticRegression(max_iter=1000)\n",
    "model.fit(X_train, y_train)\n",
    "\n",
    "# Make predictions\n",
    "predictions = model.predict(X_test)\n",
    "\n",
    "# Evaluate accuracy\n",
    "accuracy = accuracy_score(y_test, predictions)\n",
    "print(\"Model accuracy on test data:\", round(accuracy * 100, 2), \"%\")\n"
   ]
  },
  {
   "cell_type": "code",
   "execution_count": 3,
   "id": "c311a0da",
   "metadata": {
    "execution": {
     "iopub.execute_input": "2025-04-07T15:38:34.649070Z",
     "iopub.status.busy": "2025-04-07T15:38:34.648745Z",
     "iopub.status.idle": "2025-04-07T15:38:34.676157Z",
     "shell.execute_reply": "2025-04-07T15:38:34.675115Z"
    },
    "papermill": {
     "duration": 0.031577,
     "end_time": "2025-04-07T15:38:34.677632",
     "exception": false,
     "start_time": "2025-04-07T15:38:34.646055",
     "status": "completed"
    },
    "tags": []
   },
   "outputs": [
    {
     "name": "stdout",
     "output_type": "stream",
     "text": [
      "submission file created\n"
     ]
    }
   ],
   "source": [
    "test_data = pd.read_csv(\"/kaggle/input/titanic/test.csv\")\n",
    "\n",
    "#2. Clean the test data the same way we did with training data\n",
    "\n",
    "test_data['Age'] = test_data['Age'].fillna(df['Age'].median())\n",
    "test_data['Fare'] = test_data['Fare'].fillna(df['Fare'].median())\n",
    "test_data['Sex'] = test_data['Sex'].map({'male':0,'female':1})\n",
    "test_data['Embarked'] = test_data['Embarked'].map({'C':0,'Q':1,'S':2})\n",
    "test_data.drop('Cabin',axis=1,inplace=True)\n",
    "\n",
    "#3. Select the same features in training\n",
    "X_final_test = test_data[['Pclass', 'Sex', 'Age', 'SibSp', 'Parch', 'Fare', 'Embarked']]\n",
    "\n",
    "#4. Predict Survival\n",
    "final_predictions = model.predict(X_final_test)\n",
    "\n",
    "#5. Create a submission DataFrame\n",
    "submission = pd.DataFrame({'PassengerId':test_data['PassengerId'],'Survived': final_predictions})\n",
    "\n",
    "#6. Save to CSV\n",
    "submission.to_csv(\"titanic_submission.csv\", index=False)\n",
    "print(\"submission file created\")"
   ]
  }
 ],
 "metadata": {
  "kaggle": {
   "accelerator": "none",
   "dataSources": [
    {
     "databundleVersionId": 26502,
     "sourceId": 3136,
     "sourceType": "competition"
    }
   ],
   "dockerImageVersionId": 30918,
   "isGpuEnabled": false,
   "isInternetEnabled": false,
   "language": "python",
   "sourceType": "notebook"
  },
  "kernelspec": {
   "display_name": "Python 3",
   "language": "python",
   "name": "python3"
  },
  "language_info": {
   "codemirror_mode": {
    "name": "ipython",
    "version": 3
   },
   "file_extension": ".py",
   "mimetype": "text/x-python",
   "name": "python",
   "nbconvert_exporter": "python",
   "pygments_lexer": "ipython3",
   "version": "3.10.12"
  },
  "papermill": {
   "default_parameters": {},
   "duration": 6.831067,
   "end_time": "2025-04-07T15:38:35.398836",
   "environment_variables": {},
   "exception": null,
   "input_path": "__notebook__.ipynb",
   "output_path": "__notebook__.ipynb",
   "parameters": {},
   "start_time": "2025-04-07T15:38:28.567769",
   "version": "2.6.0"
  }
 },
 "nbformat": 4,
 "nbformat_minor": 5
}
